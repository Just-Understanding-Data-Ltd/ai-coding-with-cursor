{
 "cells": [
  {
   "cell_type": "markdown",
   "metadata": {},
   "source": [
    "# Business Name Generator in LangChain\n",
    "\n",
    "## Overview\n",
    "\n",
    "This project is a business name generator that uses LangChain to generate business names, using LangChain expression language LCEL and .with_structured_output()\n",
    "\n",
    "## Setup"
   ]
  },
  {
   "cell_type": "code",
   "execution_count": 10,
   "metadata": {},
   "outputs": [],
   "source": [
    "from langchain_openai import ChatOpenAI\n",
    "from langchain_core.pydantic_v1 import BaseModel, Field\n",
    "from typing import List\n",
    "\n",
    "class BusinessNames(BaseModel):\n",
    "    names: List[str] = Field(description=\"List of 3-5 business names\")\n",
    "    scores: List[float] = Field(description=\"Scores for each business name (0-10)\")\n",
    "    reasons: List[str] = Field(description=\"Reasons for selecting each business name\")"
   ]
  },
  {
   "cell_type": "code",
   "execution_count": 11,
   "metadata": {},
   "outputs": [],
   "source": [
    "chat = ChatOpenAI(\n",
    "    model_name=\"gpt-4o\",  \n",
    ")\n",
    "\n",
    "structured_output_chain = chat.with_structured_output(BusinessNames)"
   ]
  },
  {
   "cell_type": "code",
   "execution_count": 12,
   "metadata": {},
   "outputs": [
    {
     "name": "stdout",
     "output_type": "stream",
     "text": [
      "['AI Efficiency Solutions', 'ProductiveAI', 'NextGen Productivity', 'AI PowerTools', 'EfficientMind Tech']\n"
     ]
    }
   ],
   "source": [
    "result = structured_output_chain.invoke(\"Generate business names for a tech startup focused on AI-powered productivity tools\")\n",
    "\n",
    "print(result.names)"
   ]
  },
  {
   "cell_type": "code",
   "execution_count": 14,
   "metadata": {},
   "outputs": [
    {
     "data": {
      "text/plain": [
       "['Highlights focus on efficiency and AI',\n",
       " 'Directly connects AI with productivity',\n",
       " 'Emphasizes innovation and future-forward thinking',\n",
       " 'Combines AI with the concept of powerful tools',\n",
       " 'Suggests a smart approach to efficiency and technology']"
      ]
     },
     "execution_count": 14,
     "metadata": {},
     "output_type": "execute_result"
    }
   ],
   "source": [
    "result.reasons"
   ]
  },
  {
   "cell_type": "code",
   "execution_count": null,
   "metadata": {},
   "outputs": [],
   "source": []
  }
 ],
 "metadata": {
  "kernelspec": {
   "display_name": "base",
   "language": "python",
   "name": "python3"
  },
  "language_info": {
   "codemirror_mode": {
    "name": "ipython",
    "version": 3
   },
   "file_extension": ".py",
   "mimetype": "text/x-python",
   "name": "python",
   "nbconvert_exporter": "python",
   "pygments_lexer": "ipython3",
   "version": "3.12.4"
  }
 },
 "nbformat": 4,
 "nbformat_minor": 2
}
