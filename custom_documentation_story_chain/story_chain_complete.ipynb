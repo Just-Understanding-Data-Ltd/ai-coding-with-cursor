{
 "cells": [
  {
   "cell_type": "markdown",
   "metadata": {
    "vscode": {
     "languageId": "plaintext"
    }
   },
   "source": [
    "# LangChain Story Generator Chain"
   ]
  },
  {
   "cell_type": "markdown",
   "metadata": {},
   "source": [
    "This LangChain story generator chain creates a complete story by sequentially generating and chaining together various story elements. The process starts with character creation, moves on to plot development, and then generates individual scenes. Each step in the chain builds upon the output of the previous steps, ensuring a coherent and interconnected narrative.\n",
    "\n",
    "## Components\n",
    "\n",
    "1. Character Generator\n",
    "   - Input: Basic story premise or theme\n",
    "   - Output: List of main characters with descriptions\n",
    "\n",
    "2. Plot Outline Generator\n",
    "   - Input: Characters from step 1 and story premise\n",
    "   - Output: High-level plot outline with major story beats\n",
    "\n",
    "3. Scene List Generator\n",
    "   - Input: Plot outline from step 2\n",
    "   - Output: List of scenes with brief descriptions\n",
    "\n",
    "4. Scene Detail Generator\n",
    "   - Input: Individual scene descriptions from step 3\n",
    "   - Output: Detailed scene content including dialogue and action\n",
    "\n",
    "5. Story Compiler\n",
    "   - Input: All generated scenes from step 4\n",
    "   - Output: Complete story with proper formatting and structure\n",
    "\n",
    "## Process Flow\n",
    "\n",
    "1. The user provides a basic story premise or theme.\n",
    "2. The Character Generator creates a cast of main characters.\n",
    "3. The Plot Outline Generator uses the characters and premise to create a high-level story structure.\n",
    "4. The Scene List Generator breaks down the plot into individual scenes.\n",
    "5. The Scene Detail Generator expands each scene with full content.\n",
    "6. The Story Compiler combines all the generated content into a final, cohesive story.\n",
    "\n",
    "This chain allows for a structured and systematic approach to story creation, with each component building upon the previous ones to ensure consistency and coherence in the final output."
   ]
  },
  {
   "cell_type": "markdown",
   "metadata": {},
   "source": [
    "<image src=\"diagram.png\" alt=\"Story Chain Flowchart\" width=\"500\">"
   ]
  },
  {
   "cell_type": "markdown",
   "metadata": {},
   "source": []
  },
  {
   "cell_type": "markdown",
   "metadata": {},
   "source": []
  },
  {
   "cell_type": "code",
   "execution_count": null,
   "metadata": {},
   "outputs": [],
   "source": [
    "# Import necessary modules from Langchain\n",
    "from langchain_core.runnables import RunnableSequence, RunnableLambda\n",
    "from langchain_openai import ChatOpenAI\n",
    "from langchain_core.prompts import ChatPromptTemplate\n",
    "\n",
    "# Initialize the language model\n",
    "llm = ChatOpenAI(model=\"gpt-4o-mini\")\n",
    "\n",
    "# Define prompts for each step\n",
    "character_prompt = ChatPromptTemplate.from_messages(\n",
    "    [(\"system\", \"Generate characters based on the premise: {premise}\")]\n",
    ")\n",
    "\n",
    "plot_outline_prompt = ChatPromptTemplate.from_messages(\n",
    "    [(\"system\", \"Create a plot outline based on these characters: {characters}\")]\n",
    ")\n",
    "\n",
    "scene_list_prompt = ChatPromptTemplate.from_messages(\n",
    "    [(\"system\", \"Generate a list of scenes based on this plot outline: {plot_outline}\")]\n",
    ")\n",
    "\n",
    "scene_detail_prompt = ChatPromptTemplate.from_messages(\n",
    "    [(\"system\", \"Provide detailed descriptions for these scenes: {scene_list}\")]\n",
    ")\n",
    "\n",
    "story_compiler_prompt = ChatPromptTemplate.from_messages(\n",
    "    [(\"system\", \"Compile the following detailed scenes into a final story: {detailed_scenes}\")]\n",
    ")\n",
    "\n",
    "# Create runnables for each step using RunnableLambda\n",
    "character_runnable = RunnableLambda(lambda premise: llm.invoke(character_prompt.format(premise=premise)))\n",
    "plot_outline_runnable = RunnableLambda(lambda characters: llm.invoke(plot_outline_prompt.format(characters=characters)))\n",
    "scene_list_runnable = RunnableLambda(lambda plot_outline: llm.invoke(scene_list_prompt.format(plot_outline=plot_outline)))\n",
    "scene_detail_runnable = RunnableLambda(lambda scene_list: llm.invoke(scene_detail_prompt.format(scene_list=scene_list)))\n",
    "story_compiler_runnable = RunnableLambda(lambda detailed_scenes: llm.invoke(story_compiler_prompt.format(detailed_scenes=detailed_scenes)))\n",
    "\n",
    "# Create the story generation chain using RunnableSequence\n",
    "story_chain = RunnableSequence(\n",
    "        character_runnable,\n",
    "        plot_outline_runnable,\n",
    "        scene_list_runnable,\n",
    "        scene_detail_runnable,\n",
    "        story_compiler_runnable\n",
    ")\n",
    "\n",
    "# User input for the story premise\n",
    "user_input = \"A hero's journey in a fantasy world.\"\n",
    "\n",
    "# Execute the chain\n",
    "final_story = story_chain.invoke(user_input)\n",
    "\n",
    "# Output the final story\n",
    "print(final_story)"
   ]
  },
  {
   "cell_type": "code",
   "execution_count": null,
   "metadata": {},
   "outputs": [],
   "source": [
    "print(final_story.content)"
   ]
  }
 ],
 "metadata": {
  "kernelspec": {
   "display_name": "base",
   "language": "python",
   "name": "python3"
  },
  "language_info": {
   "codemirror_mode": {
    "name": "ipython",
    "version": 3
   },
   "file_extension": ".py",
   "mimetype": "text/x-python",
   "name": "python",
   "nbconvert_exporter": "python",
   "pygments_lexer": "ipython3",
   "version": "3.12.4"
  }
 },
 "nbformat": 4,
 "nbformat_minor": 2
}
