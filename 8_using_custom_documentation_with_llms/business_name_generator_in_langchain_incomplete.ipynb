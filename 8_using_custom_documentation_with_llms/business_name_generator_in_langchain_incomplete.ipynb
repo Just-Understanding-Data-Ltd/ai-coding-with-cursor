{
 "cells": [
  {
   "cell_type": "markdown",
   "metadata": {},
   "source": [
    "# Business Name Generator in LangChain\n",
    "\n",
    "## Overview\n",
    "\n",
    "This project is a business name generator that uses LangChain to generate business names, using LangChain expression language LCEL and .with_structured_output()\n",
    "\n",
    "## Setup"
   ]
  },
  {
   "cell_type": "markdown",
   "metadata": {},
   "source": []
  }
 ],
 "metadata": {
  "language_info": {
   "name": "python"
  }
 },
 "nbformat": 4,
 "nbformat_minor": 2
}
